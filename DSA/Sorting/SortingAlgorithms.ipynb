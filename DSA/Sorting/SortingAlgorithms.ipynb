{
 "cells": [
  {
   "cell_type": "code",
   "execution_count": 82,
   "metadata": {
    "collapsed": true
   },
   "outputs": [],
   "source": [
    "import random"
   ]
  },
  {
   "cell_type": "code",
   "execution_count": 176,
   "metadata": {},
   "outputs": [
    {
     "data": {
      "text/plain": [
       "[357, 342, 243, 65, 706]"
      ]
     },
     "execution_count": 176,
     "metadata": {},
     "output_type": "execute_result"
    }
   ],
   "source": [
    "arr = [random.randint(0, 2**10) for x in range(5)]\n",
    "arr"
   ]
  },
  {
   "cell_type": "code",
   "execution_count": 177,
   "metadata": {},
   "outputs": [
    {
     "name": "stdout",
     "output_type": "stream",
     "text": [
      "CPU times: user 18 µs, sys: 0 ns, total: 18 µs\n",
      "Wall time: 22.9 µs\n"
     ]
    }
   ],
   "source": [
    "%%time\n",
    "# Selection Sort\n",
    "def selectionSort(arr):\n",
    "    for i, el1 in enumerate(arr):\n",
    "        mini = 2**16\n",
    "        minii = -1\n",
    "        for j, el2 in enumerate(arr[i:], i):\n",
    "            if mini > el2:\n",
    "                mini = el2\n",
    "                minii = j\n",
    "        arr.insert(i, mini)\n",
    "        arr.pop(minii+1)\n",
    "    return arr\n",
    "selectionSort(arr[:])"
   ]
  },
  {
   "cell_type": "code",
   "execution_count": 178,
   "metadata": {},
   "outputs": [
    {
     "name": "stdout",
     "output_type": "stream",
     "text": [
      "[65, 243, 342, 357, 706]\n",
      "CPU times: user 161 µs, sys: 218 µs, total: 379 µs\n",
      "Wall time: 236 µs\n"
     ]
    }
   ],
   "source": [
    "%%time\n",
    "# Bubble Sort Algorithm\n",
    "def bubbleSort(arr):\n",
    "    n = len(arr)\n",
    "    for i in range(n):\n",
    "        for j in range(0, n-i-1):\n",
    "            if arr[j]>arr[j+1]:\n",
    "                arr[j], arr[j+1] = arr[j+1], arr[j]\n",
    "    return arr\n",
    "print(bubbleSort(arr[:]))"
   ]
  },
  {
   "cell_type": "code",
   "execution_count": 179,
   "metadata": {},
   "outputs": [
    {
     "name": "stdout",
     "output_type": "stream",
     "text": [
      "[65, 243, 342, 357, 706]\n",
      "CPU times: user 196 µs, sys: 375 µs, total: 571 µs\n",
      "Wall time: 301 µs\n"
     ]
    }
   ],
   "source": [
    "%%time \n",
    "# Insertion sorting algorithmm\n",
    "def insertionSort(arr):\n",
    "    n = len(arr)\n",
    "    for i in range(1, n):\n",
    "        val = arr[i]\n",
    "        j = i-1\n",
    "        while j>=0 and val < arr[j]:\n",
    "            arr[j+1] = arr[j]\n",
    "            j -= 1\n",
    "        arr[j+1] = val\n",
    "    return arr\n",
    "print(insertionSort(arr[:]))        "
   ]
  },
  {
   "cell_type": "code",
   "execution_count": 180,
   "metadata": {},
   "outputs": [
    {
     "name": "stdout",
     "output_type": "stream",
     "text": [
      "5 [65, 243, 342, 357, 706]\n",
      "3 [342, 357, 706]\n",
      "2 [357, 706]\n",
      "1 [706]\n"
     ]
    },
    {
     "data": {
      "text/plain": [
       "False"
      ]
     },
     "execution_count": 180,
     "metadata": {},
     "output_type": "execute_result"
    }
   ],
   "source": [
    "def binarySearch(arr, e):\n",
    "    n = len(arr)\n",
    "    print(n, arr)\n",
    "    if not arr:\n",
    "        return False\n",
    "    if n==1 and arr[0]!=e:\n",
    "        return False\n",
    "    mid = n//2\n",
    "    if arr[mid]==e: return True\n",
    "    if e>arr[mid]:\n",
    "        return binarySearch(arr[mid:], e)\n",
    "    if e<arr[mid]:\n",
    "        return binarySearch(arr[:mid], e)\n",
    "    return False\n",
    "binarySearch(insertionSort(arr[:]), 738)    "
   ]
  },
  {
   "cell_type": "code",
   "execution_count": 181,
   "metadata": {},
   "outputs": [
    {
     "name": "stdout",
     "output_type": "stream",
     "text": [
      "[65, 243, 342, 357, 706]\n",
      "CPU times: user 261 µs, sys: 420 µs, total: 681 µs\n",
      "Wall time: 490 µs\n"
     ]
    }
   ],
   "source": [
    "%%time\n",
    "# binary search and insertion sort. \n",
    "def binary_search(arr, val, start, end):\n",
    "    if start==end:\n",
    "        if arr[start] > val: return start\n",
    "        else: return start+1\n",
    "    if start>end: return start\n",
    "    mid = (start + end)//2\n",
    "    if arr[mid] < val:\n",
    "        return binary_search(arr, val, mid+1, end)\n",
    "    elif arr[mid] > val:\n",
    "        return binary_search(arr, val, start, mid-1)\n",
    "    else: return mid\n",
    "\n",
    "def insertion_sort(arr):\n",
    "    for i in range(1, len(arr)):\n",
    "        val = arr[i]\n",
    "        j = binary_search(arr, val, 0, i-1)\n",
    "        if i==j: continue\n",
    "        arr.pop(i)\n",
    "        arr.insert(j, val)\n",
    "    return arr\n",
    "print(insertion_sort(arr[:]))"
   ]
  },
  {
   "cell_type": "code",
   "execution_count": 229,
   "metadata": {},
   "outputs": [
    {
     "name": "stdout",
     "output_type": "stream",
     "text": [
      "Largest: 2 | left: 5 | right: 6 | Arr: [2, 5, 3, 1, 10] | n: 5\n",
      "Largest: 1 | left: 3 | right: 4 | Arr: [2, 5, 3, 1, 10] | n: 5\n",
      "\tLargest swapped arr[4]=5 to arr[1]=10\n",
      "Largest: 4 | left: 9 | right:10 | Arr: [2, 10, 3, 1, 5] | n: 5\n",
      "Largest: 0 | left: 1 | right: 2 | Arr: [2, 10, 3, 1, 5] | n: 5\n",
      "\tLargest swapped arr[1]=2 to arr[0]=10\n",
      "Largest: 1 | left: 3 | right: 4 | Arr: [10, 2, 3, 1, 5] | n: 5\n",
      "\tLargest swapped arr[4]=2 to arr[1]=5\n",
      "Largest: 4 | left: 9 | right:10 | Arr: [10, 5, 3, 1, 2] | n: 5\n",
      "HE\n",
      "[10, 5, 3, 1, 2]\n",
      "Largest: 0 | left: 1 | right: 2 | Arr: [2, 5, 3, 1, 10] | n: 4\n",
      "\tLargest swapped arr[1]=2 to arr[0]=5\n",
      "Largest: 1 | left: 3 | right: 4 | Arr: [5, 2, 3, 1, 10] | n: 4\n",
      "Largest: 0 | left: 1 | right: 2 | Arr: [1, 2, 3, 5, 10] | n: 3\n",
      "\tLargest swapped arr[2]=1 to arr[0]=3\n",
      "Largest: 2 | left: 5 | right: 6 | Arr: [3, 2, 1, 5, 10] | n: 3\n",
      "Largest: 0 | left: 1 | right: 2 | Arr: [1, 2, 3, 5, 10] | n: 2\n",
      "\tLargest swapped arr[1]=1 to arr[0]=2\n",
      "Largest: 1 | left: 3 | right: 4 | Arr: [2, 1, 3, 5, 10] | n: 2\n",
      "Largest: 0 | left: 1 | right: 2 | Arr: [1, 2, 3, 5, 10] | n: 1\n"
     ]
    },
    {
     "data": {
      "text/plain": [
       "[1, 2, 3, 5, 10]"
      ]
     },
     "execution_count": 229,
     "metadata": {},
     "output_type": "execute_result"
    }
   ],
   "source": [
    "# Heap sort algorithm\n",
    "def heapify(arr, n, i):\n",
    "    largest = i\n",
    "    l = 2*i + 1\n",
    "    r = 2*i + 2\n",
    "    print(f\"Largest:{largest:2} | left:{l:2} | right:{r:2} | Arr: {arr} | n:{n:2}\")\n",
    "    if l < n and arr[i] < arr[l]:\n",
    "        largest = l\n",
    "    if r < n and arr[largest] < arr[r]:\n",
    "        largest = r\n",
    "    if largest != i:\n",
    "        arr[i], arr[largest] = arr[largest], arr[i]\n",
    "        print(f\"\\tLargest swapped arr[{largest}]={arr[largest]} to arr[{i}]={arr[i]}\")\n",
    "        heapify(arr, n, largest)\n",
    "def heapSort(arr):\n",
    "    n = len(arr)\n",
    "    for i in range(n//2 , -1, -1):\n",
    "        heapify(arr, n, i)\n",
    "    print(\"HE\")\n",
    "    print(arr)\n",
    "    for i in range(n-1, 0, -1):\n",
    "        arr[i], arr[0] = arr[0], arr[i]\n",
    "        heapify(arr, i, 0)\n",
    "    return arr\n",
    "heapSort([2, 5, 3, 1, 10])"
   ]
  },
  {
   "cell_type": "code",
   "execution_count": null,
   "metadata": {
    "collapsed": true
   },
   "outputs": [],
   "source": []
  }
 ],
 "metadata": {
  "kernelspec": {
   "display_name": "Python 3",
   "language": "python",
   "name": "python3"
  },
  "language_info": {
   "codemirror_mode": {
    "name": "ipython",
    "version": 3
   },
   "file_extension": ".py",
   "mimetype": "text/x-python",
   "name": "python",
   "nbconvert_exporter": "python",
   "pygments_lexer": "ipython3",
   "version": "3.6.2"
  }
 },
 "nbformat": 4,
 "nbformat_minor": 2
}
